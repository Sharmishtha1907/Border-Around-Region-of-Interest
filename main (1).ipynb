{
 "cells": [
  {
   "cell_type": "code",
   "execution_count": 4,
   "id": "6abd89c2-9b27-4d2c-8ccb-15854d1d1de8",
   "metadata": {},
   "outputs": [],
   "source": [
    "import sys\n",
    "import cv2\n",
    "import numpy as np\n",
    "from rembg import remove\n",
    "import matplotlib.pyplot as plt\n",
    "import imutils\n"
   ]
  },
  {
   "cell_type": "markdown",
   "id": "a6de32ab-409a-43f5-802d-af306824aba4",
   "metadata": {},
   "source": [
    "# Task 1: Variable to specify image path"
   ]
  },
  {
   "cell_type": "code",
   "execution_count": 5,
   "id": "89de5316-70d1-4f3d-bfd0-7c960a5c5221",
   "metadata": {},
   "outputs": [],
   "source": [
    "#input_file = sys.argv[1]\n",
    "#img = cv2.imread(input_file)"
   ]
  },
  {
   "cell_type": "markdown",
   "id": "900096fa-1684-4e58-941b-e41cc1538643",
   "metadata": {},
   "source": [
    "# Task 2 & 3: Displaying image and ask"
   ]
  },
  {
   "cell_type": "code",
   "execution_count": null,
   "id": "213f0572-2544-46a5-9eaf-e304f0d6254d",
   "metadata": {},
   "outputs": [
    {
     "name": "stdout",
     "output_type": "stream",
     "text": [
      "(400, 151, 118, 316)\n"
     ]
    }
   ],
   "source": [
    "#imgpath=\"2.jpg\"\n",
    "imgpath=\"1.jpg\"\n",
    "img = cv2.imread(imgpath)\n",
    "img=cv2.resize(img,(800,500))\n",
    "roi = cv2.selectROI(img)\n",
    "\n",
    "print(roi)\n",
    "\n",
    "img_cropped = img[int(roi[1]):int(roi[1]+roi[3]),int(roi[0]):int(roi[0]+roi[2])]\n",
    "img_cropped = remove(img_cropped)\n",
    "cv2.imshow(\"Cropped Image\", img_cropped)\n",
    "gray=cv2.cvtColor(img_cropped,cv2.COLOR_BGR2GRAY)\n",
    "canny = cv2.Canny(gray,125,125) #Noise reduction\n",
    "contours, hierarchy = cv2.findContours(canny, cv2.RETR_EXTERNAL, cv2.CHAIN_APPROX_SIMPLE)\n",
    "contours=[c+(int(roi[0]),int(roi[1])) for c in contours]\n",
    "cv2.drawContours(img, contours, -1, (0,255,0), 1)\n",
    "cv2.imshow(\"Contours\",img)\n",
    "cv2.waitKey(0)"
   ]
  },
  {
   "cell_type": "code",
   "execution_count": null,
   "id": "decab6db-ff6d-4fb4-928b-bfa5cdadd83f",
   "metadata": {},
   "outputs": [],
   "source": []
  },
  {
   "cell_type": "code",
   "execution_count": null,
   "id": "5c313402-4844-48d8-91f0-eb8580abd0bb",
   "metadata": {},
   "outputs": [],
   "source": []
  },
  {
   "cell_type": "code",
   "execution_count": null,
   "id": "aefe902f-052e-4fdb-81a6-40d433b051f9",
   "metadata": {},
   "outputs": [],
   "source": []
  }
 ],
 "metadata": {
  "kernelspec": {
   "display_name": "Python 3 (ipykernel)",
   "language": "python",
   "name": "python3"
  },
  "language_info": {
   "codemirror_mode": {
    "name": "ipython",
    "version": 3
   },
   "file_extension": ".py",
   "mimetype": "text/x-python",
   "name": "python",
   "nbconvert_exporter": "python",
   "pygments_lexer": "ipython3",
   "version": "3.10.4"
  }
 },
 "nbformat": 4,
 "nbformat_minor": 5
}
